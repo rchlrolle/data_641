{
 "cells": [
  {
   "cell_type": "markdown",
   "metadata": {},
   "source": [
    "# Exercise 1\n",
    "# Rachel Rolle"
   ]
  },
  {
   "cell_type": "code",
   "execution_count": 1,
   "metadata": {},
   "outputs": [],
   "source": [
    "import numpy as np"
   ]
  },
  {
   "cell_type": "markdown",
   "metadata": {},
   "source": [
    "### 1 & 2"
   ]
  },
  {
   "cell_type": "code",
   "execution_count": 5,
   "metadata": {},
   "outputs": [
    {
     "data": {
      "text/plain": [
       "array([[0.87972945, 0.96107855, 0.44518859, 0.86942743, 0.17306257,\n",
       "        0.62901395],\n",
       "       [0.40654031, 0.01289677, 0.31209995, 0.0361259 , 0.63009337,\n",
       "        0.72483631],\n",
       "       [0.11219117, 0.25001147, 0.08346973, 0.41791816, 0.47780083,\n",
       "        0.23522676],\n",
       "       [0.35686046, 0.84388486, 0.66197145, 0.97543985, 0.33499936,\n",
       "        0.38487355],\n",
       "       [0.26555203, 0.5583807 , 0.03344864, 0.56889254, 0.36433811,\n",
       "        0.76528793],\n",
       "       [0.20224049, 0.67176685, 0.75753034, 0.84311203, 0.10631295,\n",
       "        0.12665512]])"
      ]
     },
     "execution_count": 5,
     "metadata": {},
     "output_type": "execute_result"
    }
   ],
   "source": [
    "#1\n",
    "A= np.random.rand(6,6)\n",
    "#2\n",
    "A\n"
   ]
  },
  {
   "cell_type": "markdown",
   "metadata": {},
   "source": [
    "### 3"
   ]
  },
  {
   "cell_type": "code",
   "execution_count": 8,
   "metadata": {},
   "outputs": [
    {
     "name": "stdout",
     "output_type": "stream",
     "text": [
      "[0.96107855 0.01289677 0.25001147 0.84388486 0.5583807  0.67176685]\n",
      "[0.86942743 0.0361259  0.41791816 0.97543985 0.56889254 0.84311203]\n",
      "[0.62901395 0.72483631 0.23522676 0.38487355 0.76528793 0.12665512]\n"
     ]
    }
   ],
   "source": [
    "#3 \n",
    "m,n = A.shape\n",
    "A\n",
    "for i in range(1,n,2):\n",
    "    print(A[:,i])"
   ]
  },
  {
   "cell_type": "markdown",
   "metadata": {},
   "source": [
    "### 4"
   ]
  },
  {
   "cell_type": "code",
   "execution_count": 11,
   "metadata": {},
   "outputs": [
    {
     "data": {
      "text/plain": [
       "{'odd': 9.023886185114257, 'even': 7.454372339754454}"
      ]
     },
     "execution_count": 11,
     "metadata": {},
     "output_type": "execute_result"
    }
   ],
   "source": [
    "#4\n",
    "myDict = {'odd':0, 'even':0}\n",
    "for i in range(m):\n",
    "    for j in range(n):\n",
    "        if (i+j)%2 == 0:\n",
    "            myDict['even'] += A[i,j]\n",
    "        else:\n",
    "            myDict['odd'] += A[i,j]\n",
    "\n",
    "myDict"
   ]
  },
  {
   "cell_type": "markdown",
   "metadata": {},
   "source": [
    "### 5"
   ]
  },
  {
   "cell_type": "code",
   "execution_count": 27,
   "metadata": {},
   "outputs": [],
   "source": [
    "#5\n",
    "class matrixMaker:\n",
    "    def __init__(self, m, n):\n",
    "        self.rows = m\n",
    "        self.cols = n\n",
    "        self.A = np.random.rand(m,n)\n",
    "\n",
    "    def specialSum(self):\n",
    "        sum = 0\n",
    "        for i in range(self.rows):\n",
    "            for j in range(self.cols):\n",
    "                if self.A[i,j] > 0.5:\n",
    "                    sum += self.A[i,j]\n",
    "        return sum"
   ]
  },
  {
   "cell_type": "code",
   "execution_count": 28,
   "metadata": {},
   "outputs": [],
   "source": [
    "test = matrixMaker(5,5)"
   ]
  },
  {
   "cell_type": "code",
   "execution_count": 29,
   "metadata": {},
   "outputs": [
    {
     "data": {
      "text/plain": [
       "array([[0.71398083, 0.48887614, 0.4511016 , 0.11668288, 0.12770904],\n",
       "       [0.5667779 , 0.36709582, 0.98665086, 0.29923602, 0.14793669],\n",
       "       [0.28011662, 0.23319767, 0.80551689, 0.64534221, 0.00990966],\n",
       "       [0.67502313, 0.54741173, 0.24529861, 0.70073413, 0.38605405],\n",
       "       [0.04539106, 0.46624765, 0.599022  , 0.28831907, 0.71772419]])"
      ]
     },
     "execution_count": 29,
     "metadata": {},
     "output_type": "execute_result"
    }
   ],
   "source": [
    "test.A"
   ]
  },
  {
   "cell_type": "code",
   "execution_count": 30,
   "metadata": {},
   "outputs": [
    {
     "data": {
      "text/plain": [
       "0.2992360247848267"
      ]
     },
     "execution_count": 30,
     "metadata": {},
     "output_type": "execute_result"
    }
   ],
   "source": [
    "test.A[1,3]"
   ]
  },
  {
   "cell_type": "code",
   "execution_count": 31,
   "metadata": {},
   "outputs": [
    {
     "data": {
      "text/plain": [
       "6.958183868501792"
      ]
     },
     "execution_count": 31,
     "metadata": {},
     "output_type": "execute_result"
    }
   ],
   "source": [
    "test.specialSum()"
   ]
  },
  {
   "cell_type": "markdown",
   "metadata": {},
   "source": [
    "# Exercise 2"
   ]
  },
  {
   "cell_type": "markdown",
   "metadata": {},
   "source": [
    "### 1"
   ]
  },
  {
   "cell_type": "code",
   "execution_count": 43,
   "metadata": {},
   "outputs": [],
   "source": [
    "\n",
    "#1\n",
    "import nltk"
   ]
  },
  {
   "cell_type": "markdown",
   "metadata": {},
   "source": [
    "### 2"
   ]
  },
  {
   "cell_type": "code",
   "execution_count": 45,
   "metadata": {},
   "outputs": [],
   "source": [
    "#2\n",
    "from nltk.stem.porter import *\n",
    "stemmer_p = PorterStemmer()"
   ]
  },
  {
   "cell_type": "code",
   "execution_count": 46,
   "metadata": {},
   "outputs": [],
   "source": [
    "plurals = ['apples', 'bananas', 'cherries', 'oranges', 'grapes',\n",
    "           'peaches', 'kiwis', 'strawberries', 'blueberries', 'watermelons',\n",
    "           'lemons', 'limes', 'pineapples', 'blackberries', 'mangos',\n",
    "           'apricots', 'pears', 'figs', 'pomegranates', 'cranberries']"
   ]
  },
  {
   "cell_type": "code",
   "execution_count": 47,
   "metadata": {},
   "outputs": [
    {
     "name": "stdout",
     "output_type": "stream",
     "text": [
      "['appl', 'banana', 'cherri', 'orang', 'grape', 'peach', 'kiwi', 'strawberri', 'blueberri', 'watermelon', 'lemon', 'lime', 'pineappl', 'blackberri', 'mango', 'apricot', 'pear', 'fig', 'pomegran', 'cranberri']\n"
     ]
    }
   ],
   "source": [
    "\n",
    "singles_p = [stemmer_p.stem(plural) for plural in plurals]\n",
    "print(singles_p)"
   ]
  },
  {
   "cell_type": "markdown",
   "metadata": {},
   "source": [
    "### Pracitce"
   ]
  },
  {
   "cell_type": "code",
   "execution_count": 48,
   "metadata": {},
   "outputs": [],
   "source": [
    "#Practice\n",
    "from nltk.stem.snowball import SnowballStemmer\n",
    "stemmer_s = SnowballStemmer('english')\n",
    "singles_s = [stemmer_s.stem(plural) for plural in plurals]\n",
    "print(singles_s)"
   ]
  },
  {
   "cell_type": "markdown",
   "metadata": {},
   "source": [
    "### 3"
   ]
  },
  {
   "cell_type": "code",
   "execution_count": 50,
   "metadata": {},
   "outputs": [],
   "source": [
    "#3\n",
    "from nltk.stem import WordNetLemmatizer\n",
    "lemmatizer = WordNetLemmatizer()\n",
    "\n",
    "import nltk\n",
    "#nltk.download('wordnet')\n",
    "\n",
    "lemm_p = [lemmatizer.lemmatize(plural) for plural in plurals]\n",
    "print(lemm_p)\n",
    "\n",
    "lemm_s = [lemmatizer.lemmatize(plural) for plural in plurals]\n",
    "print(lemm_s)"
   ]
  },
  {
   "cell_type": "code",
   "execution_count": 58,
   "metadata": {},
   "outputs": [
    {
     "name": "stderr",
     "output_type": "stream",
     "text": [
      "[nltk_data] Downloading package punkt to\n",
      "[nltk_data]     C:\\Users\\rchlr\\AppData\\Roaming\\nltk_data...\n",
      "[nltk_data]   Unzipping tokenizers\\punkt.zip.\n"
     ]
    },
    {
     "name": "stdout",
     "output_type": "stream",
     "text": [
      "['Wow', ',', 'we', 'can', 'finally', 'stop', 'using', 'the', 'split', 'function', '!']\n"
     ]
    }
   ],
   "source": [
    "#nltk.download('punkt')\n",
    "from nltk.tokenize import word_tokenize\n",
    "\n",
    "text = \"Wow, we can finally stop using the split function!\"\n",
    "print(word_tokenize(text))"
   ]
  },
  {
   "cell_type": "markdown",
   "metadata": {},
   "source": [
    "# Exercise 3"
   ]
  },
  {
   "cell_type": "markdown",
   "metadata": {},
   "source": [
    "### 1"
   ]
  },
  {
   "cell_type": "code",
   "execution_count": 10,
   "metadata": {},
   "outputs": [],
   "source": [
    "#1\n",
    "\n",
    "with open('nemo.txt', 'r') as nemo:\n",
    "    content = nemo.read()\n",
    "\n"
   ]
  },
  {
   "cell_type": "markdown",
   "metadata": {},
   "source": [
    "### 2 How many words total were there in this script?"
   ]
  },
  {
   "cell_type": "code",
   "execution_count": 18,
   "metadata": {},
   "outputs": [
    {
     "name": "stdout",
     "output_type": "stream",
     "text": [
      "11863\n"
     ]
    }
   ],
   "source": [
    "#2 How many words total were there in this script?\n",
    "words = content.split(' ')\n",
    "\n",
    "tot_words = len(words)\n",
    "print(tot_words)"
   ]
  },
  {
   "cell_type": "markdown",
   "metadata": {},
   "source": [
    "### 3 How many times did a character speak in this movie? Who spoke the most?"
   ]
  },
  {
   "cell_type": "code",
   "execution_count": 25,
   "metadata": {},
   "outputs": [
    {
     "name": "stdout",
     "output_type": "stream",
     "text": [
      "MARLIN: 368 times\n",
      "CORAL: 17 times\n",
      "NEMO: 156 times\n",
      "FISH KIDS: 1 times\n",
      "FISH MOM: 1 times\n",
      "CRAB KID: 1 times\n",
      "BOB: 10 times\n",
      "TED: 4 times\n",
      "BILL: 4 times\n",
      "BOB/TED: 1 times\n",
      "KIDS: 4 times\n",
      "MR. JOHANSSEN: 1 times\n",
      "PEARL: 6 times\n",
      "TAD: 9 times\n",
      "SHELDON: 5 times\n",
      "MR. RAY: 22 times\n",
      "JIMMY: 1 times\n",
      "FISH KID: 1 times\n",
      "DIVER: 1 times\n",
      "DORY: 252 times\n",
      "BRUCE: 38 times\n",
      "ANCHOR: 15 times\n",
      "CHUM: 18 times\n",
      "BRUCE/ANCHOR/CHUM: 3 times\n",
      "ANCHOR/CHUM: 2 times\n",
      "MARLIN/DORY: 7 times\n",
      "PELICAN: 6 times\n",
      "DENTIST: 29 times\n",
      "BARBARA: 5 times\n",
      "PATIENT: 4 times\n",
      "BUBBLES: 14 times\n",
      "PEACH: 40 times\n",
      "JACQUES: 12 times\n",
      "BLOAT: 43 times\n",
      "DEB: 24 times\n",
      "GURGLE: 39 times\n",
      "NIGEL: 35 times\n",
      "GILL: 90 times\n",
      "BOTH: 1 times\n",
      "BLOAT/BUBBLES/GURGLE: 5 times\n",
      "GILL/NEMO: 1 times\n",
      "MOONFISH LEADER: 16 times\n",
      "MOONFISH TED: 1 times\n",
      "can't miss it, it's in..that direction. And then you gotta follow that for about, I: 1 times\n",
      "MOONFISH SCHOOL: 1 times\n",
      "CRUSH: 29 times\n",
      "SQUIRT: 12 times\n",
      "CRUSH/SQUIRT: 1 times\n",
      "TURTLE KIDS: 4 times\n",
      "TURTLE KID: 1 times\n",
      "SMALL FISH: 2 times\n",
      "BIG FISH: 1 times\n",
      "LOBSTER: 1 times\n",
      "SWORDFISH: 1 times\n",
      "DOLPHIN: 1 times\n",
      "FEMALE BIRD: 1 times\n",
      "GULLS: 8 times\n",
      "CRAB: 2 times\n",
      "GULL: 4 times\n",
      "DEB/BLOAT/GURGLE: 1 times\n",
      "ALL: 6 times\n",
      "KRILL: 1 times\n",
      "AQUASCUM: 1 times\n",
      "PELICANS: 1 times\n",
      "DARLA: 15 times\n",
      "FISH: 5 times\n",
      "BOB/TED/BILL: 2 times\n",
      "NEMO/SQUIRT: 1 times\n"
     ]
    }
   ],
   "source": [
    "from collections import Counter\n",
    "\n",
    "#Tracking each line\n",
    "lines = content.split('\\n')\n",
    "\n",
    "#Distinguishing which line is a character's (by uppercase word)\n",
    "characters = [line.strip() for line in lines if line and line[-1].isupper()]\n",
    "\n",
    "# Count the occurrences of each character\n",
    "character_counts = Counter(characters)\n",
    "\n",
    "#Counting characters and lines\n",
    "counted_lines = []\n",
    "for character, count in character_counts.items():\n",
    "    counted_line = f'{character}: {count} times'\n",
    "    counted_lines.append(counted_line)\n",
    "\n",
    "#Which character spoke the most?\n",
    "for line in counted_lines:\n",
    "    print(line)\n",
    "\n",
    "print('Marlin spoke the most: 368 times')"
   ]
  }
 ],
 "metadata": {
  "kernelspec": {
   "display_name": "Python 3",
   "language": "python",
   "name": "python3"
  },
  "language_info": {
   "codemirror_mode": {
    "name": "ipython",
    "version": 3
   },
   "file_extension": ".py",
   "mimetype": "text/x-python",
   "name": "python",
   "nbconvert_exporter": "python",
   "pygments_lexer": "ipython3",
   "version": "3.11.7"
  }
 },
 "nbformat": 4,
 "nbformat_minor": 2
}
